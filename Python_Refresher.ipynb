{
 "cells": [
  {
   "cell_type": "code",
   "execution_count": 1,
   "id": "a9f6c8ab",
   "metadata": {},
   "outputs": [
    {
     "name": "stdout",
     "output_type": "stream",
     "text": [
      "5 days have 432000 seconds.\n"
     ]
    }
   ],
   "source": [
    "\n",
    "\n",
    "# Question 1\n",
    "# Program: Convert days to seconds\n",
    "\n",
    "\n",
    "# Ask the user for the number of days\n",
    "days = int(input(\"Enter number of days: \"))\n",
    "\n",
    "# Calculate seconds in the given days\n",
    "seconds = days * 24 * 60 * 60\n",
    "\n",
    "# Display the result\n",
    "print(f\"{days} days have {seconds} seconds.\")\n"
   ]
  },
  {
   "cell_type": "code",
   "execution_count": 2,
   "id": "078c3d37",
   "metadata": {},
   "outputs": [
    {
     "name": "stdout",
     "output_type": "stream",
     "text": [
      "The volume of a sphere with radius 7.0 is 1436.76\n"
     ]
    }
   ],
   "source": [
    "\n",
    "\n",
    "# Question 2\n",
    "# Program: Calculate the volume of a sphere\n",
    "# Formula: Volume = (4/3) * π * r^3\n",
    "\n",
    "\n",
    "import math  # Import math library for π\n",
    "\n",
    "# Ask the user for radius\n",
    "radius = float(input(\"Enter the radius of the sphere: \"))\n",
    "\n",
    "# Calculate volume using ** for exponent\n",
    "volume = (4/3) * math.pi * (radius ** 3)\n",
    "\n",
    "# Display the result\n",
    "print(f\"The volume of a sphere with radius {radius} is {volume:.2f}\")\n"
   ]
  },
  {
   "cell_type": "code",
   "execution_count": 3,
   "id": "95ba425f",
   "metadata": {},
   "outputs": [
    {
     "name": "stdout",
     "output_type": "stream",
     "text": [
      "Area of square: 25.0\n",
      "Perimeter of square: 20.0\n"
     ]
    }
   ],
   "source": [
    "\n",
    "\n",
    "# Question 3\n",
    "# Program: Calculate area and perimeter of a square\n",
    "# Using functions\n",
    "\n",
    "\n",
    "def square_area(side):\n",
    "    # Return area of the square\n",
    "    return side ** 2\n",
    "\n",
    "def square_perimeter(side):\n",
    "    # Return perimeter of the square\n",
    "    return 4 * side\n",
    "\n",
    "# Ask the user for the side length\n",
    "side_length = float(input(\"Enter the side length of the square: \"))\n",
    "\n",
    "# Compute and display area and perimeter\n",
    "print(f\"Area of square: {square_area(side_length)}\")\n",
    "print(f\"Perimeter of square: {square_perimeter(side_length)}\")\n"
   ]
  },
  {
   "cell_type": "code",
   "execution_count": 4,
   "id": "38af337a",
   "metadata": {},
   "outputs": [
    {
     "name": "stdout",
     "output_type": "stream",
     "text": [
      "'T' is uppercase.\n"
     ]
    }
   ],
   "source": [
    "\n",
    "\n",
    "# Question 4\n",
    "# Program: Check if a character is uppercase or lowercase\n",
    "# Using a function\n",
    "\n",
    "def check_case(char):\n",
    "    # Check and print if character is uppercase or lowercase\n",
    "    if char.isupper():\n",
    "        print(f\"'{char}' is uppercase.\")\n",
    "    elif char.islower():\n",
    "        print(f\"'{char}' is lowercase.\")\n",
    "    else:\n",
    "        print(f\"'{char}' is neither uppercase nor lowercase.\")\n",
    "\n",
    "# Ask the user for a single character\n",
    "character = input(\"Enter a character: \")\n",
    "check_case(character)\n"
   ]
  },
  {
   "cell_type": "code",
   "execution_count": 5,
   "id": "ada2878e",
   "metadata": {},
   "outputs": [
    {
     "name": "stdout",
     "output_type": "stream",
     "text": [
      "The final value of x is: 1.0416666666666665\n"
     ]
    }
   ],
   "source": [
    "\n",
    "\n",
    "# Question 5\n",
    "# Program: Convert given pseudocode to Python\n",
    "\n",
    "x = 0\n",
    "y = 20\n",
    "\n",
    "# Repeat until y is less than 6\n",
    "while y >= 6:\n",
    "    y -= 4       # Subtract 4 from y\n",
    "    x += 2 / y   # Add 2/y to x\n",
    "\n",
    "# Display final value of x\n",
    "print(f\"The final value of x is: {x}\")\n"
   ]
  },
  {
   "cell_type": "code",
   "execution_count": 6,
   "id": "cbbe9f7c",
   "metadata": {},
   "outputs": [
    {
     "name": "stdout",
     "output_type": "stream",
     "text": [
      "The average of the entered numbers is 3.00\n"
     ]
    }
   ],
   "source": [
    "\n",
    "\n",
    "# Question 6\n",
    "# Program: Input 5 numbers into a list and calculate average\n",
    "\n",
    "\n",
    "numbers = []  # Empty list to store numbers\n",
    "\n",
    "# Loop 5 times to get user input\n",
    "for i in range(5):\n",
    "    value = float(input(f\"Enter number {i+1}: \"))\n",
    "    numbers.append(value)\n",
    "\n",
    "# Calculate average\n",
    "average = sum(numbers) / len(numbers)\n",
    "\n",
    "# Display average\n",
    "print(f\"The average of the entered numbers is {average:.2f}\")\n"
   ]
  },
  {
   "cell_type": "code",
   "execution_count": null,
   "id": "3cee4061",
   "metadata": {},
   "outputs": [],
   "source": [
    "\n",
    "\n",
    "# Question 7\n",
    "# Uploaded the screenshots directly to GitHub\n"
   ]
  }
 ],
 "metadata": {
  "kernelspec": {
   "display_name": "Python 3",
   "language": "python",
   "name": "python3"
  },
  "language_info": {
   "codemirror_mode": {
    "name": "ipython",
    "version": 3
   },
   "file_extension": ".py",
   "mimetype": "text/x-python",
   "name": "python",
   "nbconvert_exporter": "python",
   "pygments_lexer": "ipython3",
   "version": "3.12.5"
  }
 },
 "nbformat": 4,
 "nbformat_minor": 5
}
